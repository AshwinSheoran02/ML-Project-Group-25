{
  "cells": [
    {
      "cell_type": "code",
      "execution_count": 1,
      "metadata": {
        "colab": {
          "base_uri": "https://localhost:8080/"
        },
        "id": "8yQiSKPDBQSJ",
        "outputId": "083e3598-96ac-4b24-dd68-ed1e23cbb31b"
      },
      "outputs": [],
      "source": [
        "# from google.colab import drive\n",
        "# drive.mount('/content/drive')"
      ]
    },
    {
      "cell_type": "code",
      "execution_count": 2,
      "metadata": {
        "id": "n2GqypG35ghw"
      },
      "outputs": [],
      "source": [
        "import numpy as np\n",
        "import pandas as pd\n",
        "from sklearn.utils import shuffle\n",
        "from sklearn.preprocessing import StandardScaler\n",
        "from sklearn.model_selection import train_test_split\n",
        "from sklearn.impute import SimpleImputer\n",
        "from sklearn.ensemble import RandomForestClassifier\n",
        "import seaborn as sns\n",
        "from sklearn.metrics import *\n",
        "import matplotlib.pyplot as plt\n",
        "from sklearn.decomposition import PCA\n",
        "\n",
        "\n",
        "imp_mean = SimpleImputer(missing_values=np.nan, strategy='mean')\n",
        "url = \"cs-training.csv\"\n",
        "data = pd.read_csv(url)\n",
        "data = data.sample(frac = 1)\n",
        "data = data.drop(data.iloc[:, 0:1],axis = 1)\n",
        "trainingdata = imp_mean.fit_transform(data)\n",
        "X_data_train = trainingdata[:,1:len(trainingdata)]\n",
        "Y_data_train = trainingdata[:,0]\n",
        "x_train, x_validate, y_train, y_validate = train_test_split(X_data_train, Y_data_train, test_size=0.30, random_state = 0)"
      ]
    },
    {
      "cell_type": "code",
      "execution_count": 3,
      "metadata": {
        "id": "hsujkJs6JqLR"
      },
      "outputs": [],
      "source": [
        "urltest = \"cs-test.csv\"\n",
        "testingdata = pd.read_csv(urltest)\n",
        "testingdata = testingdata.drop(testingdata.iloc[:, 0:1],axis = 1)\n",
        "X_test = imp_mean.fit_transform(testingdata)"
      ]
    },
    {
      "cell_type": "code",
      "execution_count": 4,
      "metadata": {
        "id": "w8Cp0G6CJqfi"
      },
      "outputs": [],
      "source": [
        "url3 = \"sampleEntry.csv\"\n",
        "data = pd.read_csv(url3)\n",
        "data = data.drop(data.iloc[:, 0:1],axis = 1).values\n",
        "d= np.mean(data, dtype=np.float64)\n",
        "y_test = []\n",
        "for i in data:\n",
        "  if(i > 0.5):\n",
        "    y_test.append(1)\n",
        "  else:\n",
        "    y_test.append(0)"
      ]
    },
    {
      "cell_type": "code",
      "execution_count": 5,
      "metadata": {
        "colab": {
          "base_uri": "https://localhost:8080/",
          "height": 1000
        },
        "id": "gMbY5S66GNAD",
        "outputId": "f483526f-8015-4414-d45f-972f0a6a1880"
      },
      "outputs": [
        {
          "name": "stdout",
          "output_type": "stream",
          "text": [
            "Accuracy Score For Train (max depth = 4) : 0.9364285714285714\n",
            "Precision Score For Train (max depth = 4) : 0.9364285714285714\n",
            "Recall Score For Train (max depth = 4) : 0.9364285714285714\n",
            "Accuracy Score For Validate (max depth = 4) : 0.9351777777777778\n",
            "Precision Score For Validate (max depth = 4) : 0.9351777777777778\n",
            "Recall Score For Validate (max depth = 4) : 0.9351777777777778\n",
            "Accuracy Score For Test (max depth = 4) : 0.9905027437612681\n",
            "Precision Score For Test (max depth = 4) : 0.9905027437612681\n",
            "Recall Score For Test (max depth = 4) : 0.9905027437612681\n",
            "\n",
            "Accuracy Score For Train (max depth = 6) : 0.9382571428571429\n",
            "Precision Score For Train (max depth = 6) : 0.9382571428571429\n",
            "Recall Score For Train (max depth = 6) : 0.9382571428571429\n",
            "Accuracy Score For Validate (max depth = 6) : 0.9361111111111111\n",
            "Precision Score For Validate (max depth = 6) : 0.9361111111111111\n",
            "Recall Score For Validate (max depth = 6) : 0.9361111111111111\n",
            "Accuracy Score For Test (max depth = 6) : 0.9937440272701299\n",
            "Precision Score For Test (max depth = 6) : 0.9937440272701299\n",
            "Recall Score For Test (max depth = 6) : 0.9937440272701299\n",
            "\n",
            "Accuracy Score For Train (max depth = 8) : 0.942047619047619\n",
            "Precision Score For Train (max depth = 8) : 0.942047619047619\n",
            "Recall Score For Train (max depth = 8) : 0.942047619047619\n",
            "Accuracy Score For Validate (max depth = 8) : 0.9365333333333333\n",
            "Precision Score For Validate (max depth = 8) : 0.9365333333333333\n",
            "Recall Score For Validate (max depth = 8) : 0.9365333333333333\n",
            "Accuracy Score For Test (max depth = 8) : 0.9947784794538093\n",
            "Precision Score For Test (max depth = 8) : 0.9947784794538093\n",
            "Recall Score For Test (max depth = 8) : 0.9947784794538093\n",
            "\n",
            "Accuracy Score For Train (max depth = 10) : 0.9475904761904762\n",
            "Precision Score For Train (max depth = 10) : 0.9475904761904762\n",
            "Recall Score For Train (max depth = 10) : 0.9475904761904762\n",
            "Accuracy Score For Validate (max depth = 10) : 0.9366222222222222\n",
            "Precision Score For Validate (max depth = 10) : 0.9366222222222222\n",
            "Recall Score For Validate (max depth = 10) : 0.9366222222222222\n",
            "Accuracy Score For Test (max depth = 10) : 0.9945617370915145\n",
            "Precision Score For Test (max depth = 10) : 0.9945617370915145\n",
            "Recall Score For Test (max depth = 10) : 0.9945617370915145\n",
            "\n",
            "Accuracy Score For Train (max depth = 12) : 0.9542190476190476\n",
            "Precision Score For Train (max depth = 12) : 0.9542190476190476\n",
            "Recall Score For Train (max depth = 12) : 0.9542190476190476\n",
            "Accuracy Score For Validate (max depth = 12) : 0.9363333333333334\n",
            "Precision Score For Validate (max depth = 12) : 0.9363333333333334\n",
            "Recall Score For Validate (max depth = 12) : 0.9363333333333334\n",
            "Accuracy Score For Test (max depth = 12) : 0.9926898712353329\n",
            "Precision Score For Test (max depth = 12) : 0.9926898712353329\n",
            "Recall Score For Test (max depth = 12) : 0.9926898712353329\n",
            "\n",
            "Accuracy Score For Train (max depth = 15) : 0.9637142857142857\n",
            "Precision Score For Train (max depth = 15) : 0.9637142857142857\n",
            "Recall Score For Train (max depth = 15) : 0.9637142857142857\n",
            "Accuracy Score For Validate (max depth = 15) : 0.9360666666666667\n",
            "Precision Score For Validate (max depth = 15) : 0.9360666666666667\n",
            "Recall Score For Validate (max depth = 15) : 0.9360666666666667\n",
            "Accuracy Score For Test (max depth = 15) : 0.990709634198004\n",
            "Precision Score For Test (max depth = 15) : 0.990709634198004\n",
            "Recall Score For Test (max depth = 15) : 0.990709634198004\n",
            "\n",
            "Accuracy Score For Train (max depth = 20) : 0.9782095238095239\n",
            "Precision Score For Train (max depth = 20) : 0.9782095238095239\n",
            "Recall Score For Train (max depth = 20) : 0.9782095238095239\n",
            "Accuracy Score For Validate (max depth = 20) : 0.9354888888888889\n",
            "Precision Score For Validate (max depth = 20) : 0.9354888888888889\n",
            "Recall Score For Validate (max depth = 20) : 0.9354888888888889\n",
            "Accuracy Score For Test (max depth = 20) : 0.9884830990217038\n",
            "Precision Score For Test (max depth = 20) : 0.9884830990217038\n",
            "Recall Score For Test (max depth = 20) : 0.9884830990217038\n",
            "\n"
          ]
        },
        {
          "data": {
            "text/plain": [
              "<matplotlib.legend.Legend at 0x7fd63510b520>"
            ]
          },
          "execution_count": 5,
          "metadata": {},
          "output_type": "execute_result"
        },
        {
          "data": {
            "image/png": "[encoded data removed]",
            "text/plain": [
              "<Figure size 432x288 with 1 Axes>"
            ]
          },
          "metadata": {
            "needs_background": "light"
          },
          "output_type": "display_data"
        }
      ],
      "source": [
        "arr = [4,6,8,10,12,15,20]\n",
        "train_plot = []\n",
        "test_plot = []\n",
        "validate_plot = []\n",
        "for i in arr:\n",
        "  model = RandomForestClassifier(max_depth=i, random_state=0)\n",
        "  model.fit(x_train,y_train)\n",
        "  pred_train = model.predict(x_train)\n",
        "  pred_test = model.predict(X_test)\n",
        "  pred_validate = model.predict(x_validate)\n",
        "  accuracy_score_train = accuracy_score(y_train,pred_train)\n",
        "  recall_score_train = recall_score(y_train,pred_train,average = \"micro\")\n",
        "  precision_score_train = precision_score(y_train,pred_train,average = \"micro\")\n",
        "  accuracy_score_validate = accuracy_score(y_validate,pred_validate)\n",
        "  recall_score_validate = recall_score(y_validate,pred_validate,average = \"micro\")\n",
        "  precision_score_validate = precision_score(y_validate,pred_validate,average = \"micro\")\n",
        "  accuracy_score_test = accuracy_score(y_test,pred_test)\n",
        "  recall_score_test = recall_score(y_test,pred_test,average = \"micro\")\n",
        "  precision_score_test = precision_score(y_test,pred_test,average = \"micro\")\n",
        "  validate_plot.append(accuracy_score_validate)\n",
        "  test_plot.append(accuracy_score_test)\n",
        "  train_plot.append(accuracy_score_train)\n",
        "  print(\"Accuracy Score For Train (max depth = \" + str(i) + \") : \" + str(accuracy_score_train))\n",
        "  print(\"Precision Score For Train (max depth = \" + str(i) + \") : \" + str(precision_score_train))\n",
        "  print(\"Recall Score For Train (max depth = \" + str(i) + \") : \" + str(recall_score_train))\n",
        "  print(\"Accuracy Score For Validate (max depth = \" + str(i) + \") : \" + str(accuracy_score_validate))\n",
        "  print(\"Precision Score For Validate (max depth = \" + str(i) + \") : \" + str(precision_score_validate))\n",
        "  print(\"Recall Score For Validate (max depth = \" + str(i) + \") : \" + str(recall_score_validate))\n",
        "  print(\"Accuracy Score For Test (max depth = \" + str(i) + \") : \" + str(accuracy_score_test))\n",
        "  print(\"Precision Score For Test (max depth = \" + str(i) + \") : \" + str(precision_score_test))\n",
        "  print(\"Recall Score For Test (max depth = \" + str(i) + \") : \" + str(recall_score_test))\n",
        "  print()\n",
        "plt.xlabel(\"Max_Depth\")\n",
        "plt.ylabel(\"Accuracy Score\")\n",
        "plt.plot(arr,validate_plot,'r',label = \"Validate Data\")\n",
        "plt.plot(arr,test_plot,'b',label = \"Testing Data\")\n",
        "plt.plot(arr,train_plot,'y',label = \"Training Data\")\n",
        "plt.legend()"
      ]
    },
    {
      "cell_type": "code",
      "execution_count": 6,
      "metadata": {
        "colab": {
          "base_uri": "https://localhost:8080/",
          "height": 439
        },
        "id": "zXxc84lJr4KK",
        "outputId": "794de484-b8a6-489b-849f-cbe190d28c7a"
      },
      "outputs": [
        {
          "name": "stdout",
          "output_type": "stream",
          "text": [
            "Accuracy Score For Train (max depth = 8) : 0.942047619047619\n",
            "              precision    recall  f1-score   support\n",
            "\n",
            "         0.0       0.94      1.00      0.97     98011\n",
            "         1.0       0.76      0.19      0.30      6989\n",
            "\n",
            "    accuracy                           0.94    105000\n",
            "   macro avg       0.85      0.59      0.63    105000\n",
            "weighted avg       0.93      0.94      0.93    105000\n",
            "\n"
          ]
        },
        {
          "data": {
            "image/png": "[encoded data removed]",
            "text/plain": [
              "<Figure size 432x288 with 2 Axes>"
            ]
          },
          "metadata": {
            "needs_background": "light"
          },
          "output_type": "display_data"
        }
      ],
      "source": [
        "model = RandomForestClassifier(max_depth=8, random_state=0)\n",
        "model.fit(x_train,y_train)\n",
        "pred_train = model.predict(x_train)\n",
        "accuracy_score_train = accuracy_score(y_train,pred_train)\n",
        "print(\"Accuracy Score For Train (max depth = \" + str(8) + \") : \" + str(accuracy_score_train))\n",
        "print(classification_report(y_train,pred_train))\n",
        "cm = confusion_matrix(y_train,pred_train)\n",
        "sns.heatmap(cm, annot=True, fmt=\".3f\", linewidths=.5, square = True, cmap = 'Blues_r');"
      ]
    },
    {
      "cell_type": "code",
      "execution_count": 7,
      "metadata": {
        "colab": {
          "base_uri": "https://localhost:8080/",
          "height": 439
        },
        "id": "lQP9zCWpval3",
        "outputId": "afe26d16-93b1-49df-81c8-cc5895c1e5f3"
      },
      "outputs": [
        {
          "name": "stdout",
          "output_type": "stream",
          "text": [
            "Accuracy Score For Validate (max depth = 8) : 0.9365333333333333\n",
            "              precision    recall  f1-score   support\n",
            "\n",
            "         0.0       0.94      0.99      0.97     41963\n",
            "         1.0       0.63      0.15      0.24      3037\n",
            "\n",
            "    accuracy                           0.94     45000\n",
            "   macro avg       0.78      0.57      0.60     45000\n",
            "weighted avg       0.92      0.94      0.92     45000\n",
            "\n"
          ]
        },
        {
          "data": {
            "image/png": "[encoded data removed]",
            "text/plain": [
              "<Figure size 432x288 with 2 Axes>"
            ]
          },
          "metadata": {
            "needs_background": "light"
          },
          "output_type": "display_data"
        }
      ],
      "source": [
        "pred_validate = model.predict(x_validate)\n",
        "accuracy_score_validate = accuracy_score(y_validate,pred_validate)\n",
        "print(\"Accuracy Score For Validate (max depth = \" + str(8) + \") : \" + str(accuracy_score_validate))\n",
        "print(classification_report(y_validate,pred_validate))\n",
        "cm = confusion_matrix(y_validate,pred_validate)\n",
        "sns.heatmap(cm, annot=True, fmt=\".3f\", linewidths=.5, square = True, cmap = 'Blues_r');"
      ]
    },
    {
      "cell_type": "code",
      "execution_count": 8,
      "metadata": {
        "colab": {
          "base_uri": "https://localhost:8080/",
          "height": 439
        },
        "id": "9c3uudeUvfMp",
        "outputId": "3c9bc0d1-bd71-4cbb-a8e7-fc67df89210e"
      },
      "outputs": [
        {
          "name": "stdout",
          "output_type": "stream",
          "text": [
            "Accuracy Score For Testing (max depth = 8) : 0.9947784794538093\n",
            "              precision    recall  f1-score   support\n",
            "\n",
            "           0       1.00      1.00      1.00     99798\n",
            "           1       0.88      0.80      0.84      1705\n",
            "\n",
            "    accuracy                           0.99    101503\n",
            "   macro avg       0.94      0.90      0.92    101503\n",
            "weighted avg       0.99      0.99      0.99    101503\n",
            "\n"
          ]
        },
        {
          "data": {
            "image/png": "[encoded data removed]",
            "text/plain": [
              "<Figure size 432x288 with 2 Axes>"
            ]
          },
          "metadata": {
            "needs_background": "light"
          },
          "output_type": "display_data"
        }
      ],
      "source": [
        "pred_test = model.predict(X_test)\n",
        "accuracy_score_test = accuracy_score(y_test,pred_test)\n",
        "print(\"Accuracy Score For Testing (max depth = \" + str(8) + \") : \" + str(accuracy_score_test))\n",
        "print(classification_report(y_test,pred_test))\n",
        "cm = confusion_matrix(y_test,pred_test)\n",
        "sns.heatmap(cm, annot=True, fmt=\".3f\", linewidths=.5, square = True, cmap = 'Blues_r');"
      ]
    },
    {
      "cell_type": "code",
      "execution_count": 9,
      "metadata": {
        "colab": {
          "base_uri": "https://localhost:8080/"
        },
        "id": "Bxdh0YiPi6YR",
        "outputId": "0cea9008-6d45-4334-e50e-ae721d43f8ff"
      },
      "outputs": [
        {
          "data": {
            "text/plain": [
              "array([0.19918341, 0.04164184, 0.12355355, 0.03828704, 0.03135562,\n",
              "       0.0272002 , 0.34718885, 0.01396838, 0.16760932, 0.0100118 ])"
            ]
          },
          "execution_count": 9,
          "metadata": {},
          "output_type": "execute_result"
        }
      ],
      "source": [
        "model.feature_importances_"
      ]
    },
    {
      "cell_type": "code",
      "execution_count": 10,
      "metadata": {
        "colab": {
          "base_uri": "https://localhost:8080/",
          "height": 282
        },
        "id": "2ZKYFJBkjHf8",
        "outputId": "0ad379f0-325b-4038-9c0a-1e4b03bc824b"
      },
      "outputs": [
        {
          "data": {
            "text/plain": [
              "<BarContainer object of 10 artists>"
            ]
          },
          "execution_count": 10,
          "metadata": {},
          "output_type": "execute_result"
        },
        {
          "data": {
            "image/png": "[encoded data removed]",
            "text/plain": [
              "<Figure size 432x288 with 1 Axes>"
            ]
          },
          "metadata": {
            "needs_background": "light"
          },
          "output_type": "display_data"
        }
      ],
      "source": [
        "arr = [\"RevolvingUtilizationOfUnsecuredLines\",\"age\",\"NumberOfTime30-59DaysPastDueNotWorse\",\"DebtRatio\",\"MonthlyIncome\",\"NumberOfOpenCreditLinesAndLoans\",\"NumberOfTimes90DaysLate\",\"NumberRealEstateLoansOrLines\",\"NumberOfTime60-89DaysPastDueNotWorse\",\"NumberOfDependents\"]\n",
        "plt.barh(arr,model.feature_importances_)"
      ]
    },
    {
      "cell_type": "code",
      "execution_count": 13,
      "metadata": {},
      "outputs": [
        {
          "name": "stdout",
          "output_type": "stream",
          "text": [
            "Accuracy Score For Test (max depth = 1) : 0.98320246692216\n",
            "Precision Score For Test (max depth = 1) : 0.98320246692216\n",
            "Recall Score For Test (max depth = 1) : 0.98320246692216\n",
            "\n",
            "Accuracy Score For Test (max depth = 2) : 0.98320246692216\n",
            "Precision Score For Test (max depth = 2) : 0.98320246692216\n",
            "Recall Score For Test (max depth = 2) : 0.98320246692216\n",
            "\n",
            "Accuracy Score For Test (max depth = 3) : 0.98320246692216\n",
            "Precision Score For Test (max depth = 3) : 0.98320246692216\n",
            "Recall Score For Test (max depth = 3) : 0.98320246692216\n",
            "\n",
            "Accuracy Score For Test (max depth = 4) : 0.9830349841876594\n",
            "Precision Score For Test (max depth = 4) : 0.9830349841876594\n",
            "Recall Score For Test (max depth = 4) : 0.9830349841876594\n",
            "\n",
            "Accuracy Score For Test (max depth = 5) : 0.9889855472252052\n",
            "Precision Score For Test (max depth = 5) : 0.9889855472252052\n",
            "Recall Score For Test (max depth = 5) : 0.9889855472252052\n",
            "\n",
            "Accuracy Score For Test (max depth = 6) : 0.9867393081977872\n",
            "Precision Score For Test (max depth = 6) : 0.9867393081977872\n",
            "Recall Score For Test (max depth = 6) : 0.9867393081977872\n",
            "\n",
            "Accuracy Score For Test (max depth = 7) : 0.9872220525501709\n",
            "Precision Score For Test (max depth = 7) : 0.9872220525501709\n",
            "Recall Score For Test (max depth = 7) : 0.9872220525501709\n",
            "\n",
            "Accuracy Score For Test (max depth = 8) : 0.9884239874683507\n",
            "Precision Score For Test (max depth = 8) : 0.9884239874683507\n",
            "Recall Score For Test (max depth = 8) : 0.9884239874683507\n",
            "\n",
            "Accuracy Score For Test (max depth = 9) : 0.9885126547983804\n",
            "Precision Score For Test (max depth = 9) : 0.9885126547983804\n",
            "Recall Score For Test (max depth = 9) : 0.9885126547983804\n",
            "\n",
            "Accuracy Score For Test (max depth = 10) : 0.9875570180191718\n",
            "Precision Score For Test (max depth = 10) : 0.9875570180191718\n",
            "Recall Score For Test (max depth = 10) : 0.9875570180191718\n",
            "\n"
          ]
        },
        {
          "data": {
            "text/plain": [
              "<matplotlib.legend.Legend at 0x7fd633ad2dc0>"
            ]
          },
          "execution_count": 13,
          "metadata": {},
          "output_type": "execute_result"
        },
        {
          "data": {
            "image/png": "[encoded data removed]",
            "text/plain": [
              "<Figure size 432x288 with 1 Axes>"
            ]
          },
          "metadata": {
            "needs_background": "light"
          },
          "output_type": "display_data"
        }
      ],
      "source": [
        "arr = [1,2,3,4,5,6,7,8,9,10]\n",
        "test_plot = []\n",
        "validate_plot = []\n",
        "train_plot = []\n",
        "for i in arr:\n",
        "    clf = PCA(n_components = i)\n",
        "    X_train2 = clf.fit_transform(x_train)\n",
        "    X_valid2 = clf.fit_transform(x_validate)\n",
        "    X_test2 = clf.fit_transform(X_test)\n",
        "    clf = RandomForestClassifier(max_depth=8, random_state=0)\n",
        "    clf.fit(X_train2, y_train)\n",
        "    pred_test = clf.predict(X_test2)\n",
        "    pred_val = clf.predict(X_valid2)\n",
        "    pred_train = clf.predict(X_train2)\n",
        "    score = clf.score(X_test2, y_test)\n",
        "    accuracy_score_test = accuracy_score(y_test,pred_test)\n",
        "    recall_score_test = recall_score(y_test,pred_test,average = \"micro\")\n",
        "    precision_score_test = precision_score(y_test,pred_test,average = \"micro\")\n",
        "    test_plot.append(accuracy_score_test)\n",
        "\n",
        "    recall_score_validate = recall_score(y_validate, pred_val, average = \"micro\")\n",
        "    precision_score_validate = precision_score(y_validate, pred_val, average = \"micro\")\n",
        "    accuracy_score_validate = accuracy_score(y_validate, pred_val)\n",
        "    validate_plot.append(accuracy_score_validate)\n",
        "\n",
        "    recall_score_train = recall_score(y_train, pred_train, average = \"micro\")\n",
        "    precision_score_train = precision_score(y_train, pred_train, average = \"micro\")\n",
        "    accuracy_score_train = accuracy_score(y_train, pred_train)\n",
        "    train_plot.append(accuracy_score_train)\n",
        "    print(\"Accuracy Score For Test (max depth = \" + str(i) + \") : \" + str(accuracy_score_test))\n",
        "    print(\"Precision Score For Test (max depth = \" + str(i) + \") : \" + str(precision_score_test))\n",
        "    print(\"Recall Score For Test (max depth = \" + str(i) + \") : \" + str(recall_score_test))\n",
        "    print()\n",
        "plt.xlabel(\"n_components\")\n",
        "plt.ylabel(\"AccuracyScore\")\n",
        "plt.plot(arr,test_plot,'b',label = \"Testing Data\")\n",
        "plt.plot(arr,validate_plot,'r',label = \"Validate Data\")\n",
        "plt.plot(arr,train_plot,'g',label = \"Train Data\")\n",
        "plt.legend()\n"
      ]
    }
  ],
  "metadata": {
    "colab": {
      "provenance": []
    },
    "kernelspec": {
      "display_name": "Python 3.9.12 ('base')",
      "language": "python",
      "name": "python3"
    },
    "language_info": {
      "codemirror_mode": {
        "name": "ipython",
        "version": 3
      },
      "file_extension": ".py",
      "mimetype": "text/x-python",
      "name": "python",
      "nbconvert_exporter": "python",
      "pygments_lexer": "ipython3",
      "version": "3.9.12"
    },
    "vscode": {
      "interpreter": {
        "hash": "77df3a5ebd1cef01dee7bc6ed82b7377cfd852bb783257559a7f51931db89a34"
      }
    }
  },
  "nbformat": 4,
  "nbformat_minor": 0
}
