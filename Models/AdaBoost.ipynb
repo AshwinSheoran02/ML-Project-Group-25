{
 "cells": [
  {
   "cell_type": "code",
   "execution_count": 1,
   "metadata": {},
   "outputs": [],
   "source": [
    "import pandas as pd\n",
    "import numpy as np\n",
    "from sklearn.model_selection import train_test_split\n",
    "from sklearn.impute import SimpleImputer\n",
    "from sklearn.preprocessing import StandardScaler\n",
    "from sklearn.ensemble import AdaBoostClassifier\n",
    "from sklearn.metrics import *\n",
    "import seaborn as sns\n",
    "import matplotlib.pyplot as plt\n",
    "from sklearn.decomposition import PCA\n",
    "\n",
    "\n",
    "\n",
    "\n",
    "\n"
   ]
  },
  {
   "cell_type": "code",
   "execution_count": 3,
   "metadata": {},
   "outputs": [],
   "source": [
    "urltrain = \"cs-training.csv\"\n",
    "train = pd.read_csv(urltrain)\n",
    "train = train.drop(train.iloc[:,0:1],axis=1)\n",
    "Y_train = train['SeriousDlqin2yrs']\n",
    "X_train = train.drop(['SeriousDlqin2yrs'], axis = 1)"
   ]
  },
  {
   "cell_type": "code",
   "execution_count": 4,
   "metadata": {},
   "outputs": [],
   "source": [
    "urltest = \"cs-test.csv\"\n",
    "test = pd.read_csv(urltest)\n",
    "test = test.drop(columns = {\"SeriousDlqin2yrs\"}, axis = 1)\n",
    "X_test = test.drop(test.iloc[:,0:1],axis=1)"
   ]
  },
  {
   "cell_type": "code",
   "execution_count": 6,
   "metadata": {},
   "outputs": [
    {
     "name": "stderr",
     "output_type": "stream",
     "text": [
      "/Users/ashwinsheoran/opt/anaconda3/lib/python3.9/site-packages/sklearn/base.py:443: UserWarning: X has feature names, but StandardScaler was fitted without feature names\n",
      "  warnings.warn(\n"
     ]
    }
   ],
   "source": [
    "url_test_labels = \"sampleEntry.csv\"\n",
    "label_proba = pd.read_csv(url_test_labels)\n",
    "label_proba = label_proba.drop(label_proba.iloc[:, 0:1],axis = 1).values\n",
    "Y_test = []\n",
    "for i in label_proba:\n",
    "  if(i > 0.5):\n",
    "    Y_test.append(1)\n",
    "  else:\n",
    "    Y_test.append(0)\n",
    "\n",
    "X_test['labels'] = Y_test\n",
    "\n",
    "imp_mean = SimpleImputer(missing_values=np.nan, strategy='mean')\n",
    "imp_mean = imp_mean.fit(X_train)\n",
    "X_train = imp_mean.transform(X_train)\n",
    "\n",
    "X_test = X_test.dropna()\n",
    "\n",
    "Y_test = X_test['labels']\n",
    "X_test = X_test.drop(['labels'], axis = 1)\n",
    "\n",
    "\n",
    "sc = StandardScaler()\n",
    "sc = sc.fit(X_train)\n",
    "X_train = sc.transform(X_train)\n",
    "X_test = sc.transform(X_test)\n",
    "\n",
    "X_train, X_val, Y_train, Y_val = train_test_split(X_train, Y_train, test_size=0.30, random_state = 0)"
   ]
  },
  {
   "cell_type": "code",
   "execution_count": 7,
   "metadata": {},
   "outputs": [],
   "source": [
    "clf = AdaBoostClassifier(n_estimators=100, random_state=0)\n",
    "clf.fit(X_train, Y_train)\n",
    "\n",
    "sc = StandardScaler()\n",
    "sc = sc.fit(X_train)\n",
    "X_train = sc.transform(X_train)\n",
    "X_test = sc.transform(X_test)\n",
    "\n",
    "X_train, X_valid, y_train, y_valid = train_test_split(X_train, Y_train, test_size=0.30, random_state = 0)"
   ]
  },
  {
   "cell_type": "code",
   "execution_count": 8,
   "metadata": {},
   "outputs": [
    {
     "name": "stdout",
     "output_type": "stream",
     "text": [
      "AdaBoost Accuracy Score on training set :- 0.9348027210884354\n",
      "              precision    recall  f1-score   support\n",
      "\n",
      "           0       0.95      0.98      0.97     68646\n",
      "           1       0.51      0.27      0.35      4854\n",
      "\n",
      "    accuracy                           0.93     73500\n",
      "   macro avg       0.73      0.62      0.66     73500\n",
      "weighted avg       0.92      0.93      0.93     73500\n",
      "\n"
     ]
    },
    {
     "data": {
      "text/plain": [
       "<AxesSubplot:>"
      ]
     },
     "execution_count": 8,
     "metadata": {},
     "output_type": "execute_result"
    },
    {
     "data": {
      "image/png": "[encoded data removed]",
      "text/plain": [
       "<Figure size 432x288 with 2 Axes>"
      ]
     },
     "metadata": {
      "needs_background": "light"
     },
     "output_type": "display_data"
    }
   ],
   "source": [
    "pred = clf.predict(X_train)\n",
    "score = clf.score(X_train, y_train)\n",
    "cm = confusion_matrix(y_train,pred)\n",
    "print(\"AdaBoost Accuracy Score on training set :- \" + str(score))\n",
    "print(classification_report(y_train,pred))\n",
    "sns.heatmap(cm, annot=True, fmt=\".3f\", linewidths=.5, square = True, cmap = 'Blues_r')"
   ]
  },
  {
   "cell_type": "code",
   "execution_count": 9,
   "metadata": {},
   "outputs": [
    {
     "name": "stdout",
     "output_type": "stream",
     "text": [
      "AdaBoost Accuracy Score on Validation set :- 0.9350793650793651\n",
      "              precision    recall  f1-score   support\n",
      "\n",
      "           0       0.95      0.98      0.97     29363\n",
      "           1       0.54      0.28      0.37      2137\n",
      "\n",
      "    accuracy                           0.94     31500\n",
      "   macro avg       0.75      0.63      0.67     31500\n",
      "weighted avg       0.92      0.94      0.93     31500\n",
      "\n"
     ]
    },
    {
     "data": {
      "text/plain": [
       "<AxesSubplot:>"
      ]
     },
     "execution_count": 9,
     "metadata": {},
     "output_type": "execute_result"
    },
    {
     "data": {
      "image/png": "[encoded data removed]",
      "text/plain": [
       "<Figure size 432x288 with 2 Axes>"
      ]
     },
     "metadata": {
      "needs_background": "light"
     },
     "output_type": "display_data"
    }
   ],
   "source": [
    "pred = clf.predict(X_valid)\n",
    "score = clf.score(X_valid, y_valid)\n",
    "cm = confusion_matrix(y_valid,pred)\n",
    "print(\"AdaBoost Accuracy Score on Validation set :- \" + str(score))\n",
    "print(classification_report(y_valid,pred))\n",
    "sns.heatmap(cm, annot=True, fmt=\".3f\", linewidths=.5, square = True, cmap = 'Blues_r')"
   ]
  },
  {
   "cell_type": "code",
   "execution_count": 11,
   "metadata": {},
   "outputs": [
    {
     "name": "stdout",
     "output_type": "stream",
     "text": [
      "AdaBoost Accuracy Score on testing set :- 0.9790663390663391\n",
      "              precision    recall  f1-score   support\n",
      "\n",
      "           0       1.00      0.98      0.99     80040\n",
      "           1       0.44      0.94      0.60      1360\n",
      "\n",
      "    accuracy                           0.98     81400\n",
      "   macro avg       0.72      0.96      0.80     81400\n",
      "weighted avg       0.99      0.98      0.98     81400\n",
      "\n"
     ]
    },
    {
     "data": {
      "text/plain": [
       "<AxesSubplot:>"
      ]
     },
     "execution_count": 11,
     "metadata": {},
     "output_type": "execute_result"
    },
    {
     "data": {
      "image/png": "[encoded data removed]",
      "text/plain": [
       "<Figure size 432x288 with 2 Axes>"
      ]
     },
     "metadata": {
      "needs_background": "light"
     },
     "output_type": "display_data"
    }
   ],
   "source": [
    "pred1 = clf.predict(X_test)\n",
    "score = clf.score(X_test, Y_test)\n",
    "cm = confusion_matrix(Y_test,pred1)\n",
    "print(\"AdaBoost Accuracy Score on testing set :- \" + str(score))\n",
    "print(classification_report(Y_test,pred1))\n",
    "sns.heatmap(cm, annot=True, fmt=\".3f\", linewidths=.5, square = True, cmap = 'Blues_r')"
   ]
  },
  {
   "cell_type": "code",
   "execution_count": 12,
   "metadata": {},
   "outputs": [],
   "source": [
    "test_loss =[]\n",
    "\n",
    "iteration=[]\n",
    "for i in range (1,11):\n",
    "    iteration.append(i*25)\n",
    "    clf = AdaBoostClassifier(n_estimators=(i*25), random_state=0)\n",
    "    clf.fit(X_train, y_train)\n",
    "    pred2 = clf.predict(X_test)\n",
    "    score = clf.score(X_test, Y_test)\n",
    "    cm = confusion_matrix(Y_test,pred2)\n",
    "    # print(\"AdaBoost Accuracy Score on testing set :- \" + str(score))\n",
    "    # print(classification_report(y_test,pred1))\n",
    "    # sns.heatmap(cm, annot=True, fmt=\".3f\", linewidths=.5, square = True, cmap = 'Blues_r')\n",
    "    test_loss.append(log_loss(Y_test , pred2))\n",
    "\n",
    "\n"
   ]
  },
  {
   "cell_type": "code",
   "execution_count": 13,
   "metadata": {},
   "outputs": [
    {
     "data": {
      "image/png": "[encoded data removed]",
      "text/plain": [
       "<Figure size 432x288 with 1 Axes>"
      ]
     },
     "metadata": {
      "needs_background": "light"
     },
     "output_type": "display_data"
    }
   ],
   "source": [
    "plt.plot(iteration,test_loss,label = \"Testing Loss\")\n",
    "plt.xlabel(\"Number of n-estimators\")\n",
    "plt.ylabel(\"Testing Loss\")\n",
    "plt.legend()\n",
    "plt.show()"
   ]
  },
  {
   "cell_type": "code",
   "execution_count": 14,
   "metadata": {},
   "outputs": [
    {
     "name": "stdout",
     "output_type": "stream",
     "text": [
      "Accuracy Score For Test (max depth = 1) : 0.9238820638820638\n",
      "Precision Score For Test (max depth = 1) : 0.9238820638820638\n",
      "Recall Score For Test (max depth = 1) : 0.9238820638820638\n",
      "\n",
      "Accuracy Score For Test (max depth = 2) : 0.9065970515970516\n",
      "Precision Score For Test (max depth = 2) : 0.9065970515970516\n",
      "Recall Score For Test (max depth = 2) : 0.9065970515970516\n",
      "\n",
      "Accuracy Score For Test (max depth = 3) : 0.9111179361179361\n",
      "Precision Score For Test (max depth = 3) : 0.9111179361179361\n",
      "Recall Score For Test (max depth = 3) : 0.9111179361179361\n",
      "\n",
      "Accuracy Score For Test (max depth = 4) : 0.9167567567567567\n",
      "Precision Score For Test (max depth = 4) : 0.9167567567567567\n",
      "Recall Score For Test (max depth = 4) : 0.9167567567567567\n",
      "\n",
      "Accuracy Score For Test (max depth = 5) : 0.9145208845208845\n",
      "Precision Score For Test (max depth = 5) : 0.9145208845208845\n",
      "Recall Score For Test (max depth = 5) : 0.9145208845208845\n",
      "\n",
      "Accuracy Score For Test (max depth = 6) : 0.8932800982800982\n",
      "Precision Score For Test (max depth = 6) : 0.8932800982800982\n",
      "Recall Score For Test (max depth = 6) : 0.8932800982800982\n",
      "\n",
      "Accuracy Score For Test (max depth = 7) : 0.9118918918918919\n",
      "Precision Score For Test (max depth = 7) : 0.9118918918918919\n",
      "Recall Score For Test (max depth = 7) : 0.9118918918918919\n",
      "\n",
      "Accuracy Score For Test (max depth = 8) : 0.9215970515970516\n",
      "Precision Score For Test (max depth = 8) : 0.9215970515970516\n",
      "Recall Score For Test (max depth = 8) : 0.9215970515970516\n",
      "\n",
      "Accuracy Score For Test (max depth = 9) : 0.9625429975429975\n",
      "Precision Score For Test (max depth = 9) : 0.9625429975429975\n",
      "Recall Score For Test (max depth = 9) : 0.9625429975429975\n",
      "\n",
      "Accuracy Score For Test (max depth = 10) : 0.9688697788697789\n",
      "Precision Score For Test (max depth = 10) : 0.9688697788697789\n",
      "Recall Score For Test (max depth = 10) : 0.9688697788697789\n",
      "\n"
     ]
    },
    {
     "data": {
      "text/plain": [
       "<matplotlib.legend.Legend at 0x7f87b15c4250>"
      ]
     },
     "execution_count": 14,
     "metadata": {},
     "output_type": "execute_result"
    },
    {
     "data": {
      "image/png": "[encoded data removed]",
      "text/plain": [
       "<Figure size 432x288 with 1 Axes>"
      ]
     },
     "metadata": {
      "needs_background": "light"
     },
     "output_type": "display_data"
    }
   ],
   "source": [
    "arr = [1,2,3,4,5,6,7,8,9,10]\n",
    "test_plot = []\n",
    "validate_plot = []\n",
    "train_plot = []\n",
    "for i in arr:\n",
    "    clf = PCA(n_components = i)\n",
    "    X_train2 = clf.fit_transform(X_train)\n",
    "    X_valid2 = clf.fit_transform(X_valid)\n",
    "    X_test2 = clf.fit_transform(X_test)\n",
    "    clf = AdaBoostClassifier(n_estimators=(75), random_state=0)\n",
    "    clf.fit(X_train2, y_train)\n",
    "    pred_test = clf.predict(X_test2)\n",
    "    pred_val = clf.predict(X_valid2)\n",
    "    pred_train = clf.predict(X_train2)\n",
    "    score = clf.score(X_test2, Y_test)\n",
    "    accuracy_score_test = accuracy_score(Y_test,pred_test)\n",
    "    recall_score_test = recall_score(Y_test,pred_test,average = \"micro\")\n",
    "    precision_score_test = precision_score(Y_test,pred_test,average = \"micro\")\n",
    "    test_plot.append(accuracy_score_test)\n",
    "\n",
    "    recall_score_validate = recall_score(y_valid, pred_val, average = \"micro\")\n",
    "    precision_score_validate = precision_score(y_valid, pred_val, average = \"micro\")\n",
    "    accuracy_score_validate = accuracy_score(y_valid, pred_val)\n",
    "    validate_plot.append(accuracy_score_validate)\n",
    "\n",
    "    recall_score_train = recall_score(y_train, pred_train, average = \"micro\")\n",
    "    precision_score_train = precision_score(y_train, pred_train, average = \"micro\")\n",
    "    accuracy_score_train = accuracy_score(y_train, pred_train)\n",
    "    train_plot.append(accuracy_score_train)\n",
    "    print(\"Accuracy Score For Test (max depth = \" + str(i) + \") : \" + str(accuracy_score_test))\n",
    "    print(\"Precision Score For Test (max depth = \" + str(i) + \") : \" + str(precision_score_test))\n",
    "    print(\"Recall Score For Test (max depth = \" + str(i) + \") : \" + str(recall_score_test))\n",
    "    print()\n",
    "plt.xlabel(\"n_components\")\n",
    "plt.ylabel(\"AccuracyScore\")\n",
    "plt.plot(arr,test_plot,'b',label = \"Testing Data\")\n",
    "plt.plot(arr,validate_plot,'r',label = \"Validate Data\")\n",
    "plt.plot(arr,train_plot,'g',label = \"Train Data\")\n",
    "plt.legend()\n"
   ]
  }
 ],
 "metadata": {
  "kernelspec": {
   "display_name": "Python 3.9.12 ('base')",
   "language": "python",
   "name": "python3"
  },
  "language_info": {
   "codemirror_mode": {
    "name": "ipython",
    "version": 3
   },
   "file_extension": ".py",
   "mimetype": "text/x-python",
   "name": "python",
   "nbconvert_exporter": "python",
   "pygments_lexer": "ipython3",
   "version": "3.9.12"
  },
  "orig_nbformat": 4,
  "vscode": {
   "interpreter": {
    "hash": "77df3a5ebd1cef01dee7bc6ed82b7377cfd852bb783257559a7f51931db89a34"
   }
  }
 },
 "nbformat": 4,
 "nbformat_minor": 2
}
