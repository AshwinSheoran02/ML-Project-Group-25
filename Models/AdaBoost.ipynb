{
 "cells": [
  {
   "cell_type": "code",
   "execution_count": 79,
   "metadata": {},
   "outputs": [],
   "source": [
    "import pandas as pd\n",
    "import numpy as np\n",
    "from sklearn.model_selection import train_test_split\n",
    "from sklearn.impute import SimpleImputer\n",
    "from sklearn.preprocessing import StandardScaler\n",
    "from sklearn.ensemble import AdaBoostClassifier\n",
    "from sklearn.metrics import *\n",
    "import seaborn as sns\n",
    "import matplotlib.pyplot as plt\n",
    "from sklearn.decomposition import PCA\n",
    "\n",
    "\n",
    "\n",
    "\n",
    "\n"
   ]
  },
  {
   "cell_type": "code",
   "execution_count": 80,
   "metadata": {},
   "outputs": [],
   "source": [
    "imp_mean = SimpleImputer(missing_values=np.nan, strategy='mean')\n",
    "url = \"cs-training.csv\"\n",
    "data = pd.read_csv(url)\n",
    "data = data.drop(data.iloc[:, 0:1],axis = 1)\n",
    "data = imp_mean.fit_transform(data)\n",
    "X_train = data[:,1:len(data)]\n",
    "Y_train = data[:,0]\n",
    "X_train, X_valid, y_train, y_valid = train_test_split(X_train, Y_train, test_size=0.30, random_state = 0)"
   ]
  },
  {
   "cell_type": "code",
   "execution_count": 81,
   "metadata": {},
   "outputs": [],
   "source": [
    "urltest = \"cs-test.csv\"\n",
    "data = pd.read_csv(urltest)\n",
    "data = data.drop(data.iloc[:, 0:1],axis = 1)\n",
    "X_test = imp_mean.fit_transform(data)"
   ]
  },
  {
   "cell_type": "code",
   "execution_count": 82,
   "metadata": {},
   "outputs": [],
   "source": [
    "url3 = \"sampleEntry.csv\"\n",
    "data = pd.read_csv(url3)\n",
    "data = data.drop(data.iloc[:, 0:1],axis = 1).values\n",
    "y_test = []\n",
    "for i in data:\n",
    "  if(i > 0.5):\n",
    "    y_test.append(1)\n",
    "  else:\n",
    "    y_test.append(0)"
   ]
  },
  {
   "cell_type": "code",
   "execution_count": 83,
   "metadata": {},
   "outputs": [
    {
     "data": {
      "text/plain": [
       "AdaBoostClassifier(n_estimators=100, random_state=0)"
      ]
     },
     "execution_count": 83,
     "metadata": {},
     "output_type": "execute_result"
    }
   ],
   "source": [
    "clf = AdaBoostClassifier(n_estimators=100, random_state=0)\n",
    "clf.fit(X_train, y_train)"
   ]
  },
  {
   "cell_type": "code",
   "execution_count": 89,
   "metadata": {},
   "outputs": [
    {
     "name": "stdout",
     "output_type": "stream",
     "text": [
      "AdaBoost Accuracy Score on training set :- 0.15614285714285714\n",
      "              precision    recall  f1-score   support\n",
      "\n",
      "         0.0       0.95      0.10      0.18     98009\n",
      "         1.0       0.07      0.93      0.13      6991\n",
      "\n",
      "    accuracy                           0.16    105000\n",
      "   macro avg       0.51      0.51      0.16    105000\n",
      "weighted avg       0.89      0.16      0.18    105000\n",
      "\n"
     ]
    },
    {
     "data": {
      "text/plain": [
       "<AxesSubplot:>"
      ]
     },
     "execution_count": 89,
     "metadata": {},
     "output_type": "execute_result"
    },
    {
     "data": {
      "image/png": "[encoded data removed]",
      "text/plain": [
       "<Figure size 432x288 with 2 Axes>"
      ]
     },
     "metadata": {
      "needs_background": "light"
     },
     "output_type": "display_data"
    }
   ],
   "source": [
    "pred = clf.predict(X_train)\n",
    "score = clf.score(X_train, y_train)\n",
    "cm = confusion_matrix(y_train,pred)\n",
    "print(\"AdaBoost Accuracy Score on training set :- \" + str(score))\n",
    "print(classification_report(y_train,pred))\n",
    "sns.heatmap(cm, annot=True, fmt=\".3f\", linewidths=.5, square = True, cmap = 'Blues_r')"
   ]
  },
  {
   "cell_type": "code",
   "execution_count": 84,
   "metadata": {},
   "outputs": [
    {
     "name": "stdout",
     "output_type": "stream",
     "text": [
      "AdaBoost Accuracy Score on Validation set :- 0.9354444444444444\n",
      "              precision    recall  f1-score   support\n",
      "\n",
      "         0.0       0.94      0.99      0.97     41965\n",
      "         1.0       0.56      0.20      0.30      3035\n",
      "\n",
      "    accuracy                           0.94     45000\n",
      "   macro avg       0.75      0.60      0.63     45000\n",
      "weighted avg       0.92      0.94      0.92     45000\n",
      "\n"
     ]
    },
    {
     "data": {
      "text/plain": [
       "<AxesSubplot:>"
      ]
     },
     "execution_count": 84,
     "metadata": {},
     "output_type": "execute_result"
    },
    {
     "data": {
      "image/png": "[encoded data removed]",
      "text/plain": [
       "<Figure size 432x288 with 2 Axes>"
      ]
     },
     "metadata": {
      "needs_background": "light"
     },
     "output_type": "display_data"
    }
   ],
   "source": [
    "pred = clf.predict(X_valid)\n",
    "score = clf.score(X_valid, y_valid)\n",
    "cm = confusion_matrix(y_valid,pred)\n",
    "print(\"AdaBoost Accuracy Score on Validation set :- \" + str(score))\n",
    "print(classification_report(y_valid,pred))\n",
    "sns.heatmap(cm, annot=True, fmt=\".3f\", linewidths=.5, square = True, cmap = 'Blues_r')"
   ]
  },
  {
   "cell_type": "code",
   "execution_count": 85,
   "metadata": {},
   "outputs": [
    {
     "name": "stdout",
     "output_type": "stream",
     "text": [
      "AdaBoost Accuracy Score on testing set :- 0.9866999004955519\n",
      "              precision    recall  f1-score   support\n",
      "\n",
      "           0       1.00      0.99      0.99     99798\n",
      "           1       0.57      0.85      0.68      1705\n",
      "\n",
      "    accuracy                           0.99    101503\n",
      "   macro avg       0.78      0.92      0.84    101503\n",
      "weighted avg       0.99      0.99      0.99    101503\n",
      "\n"
     ]
    },
    {
     "data": {
      "text/plain": [
       "<AxesSubplot:>"
      ]
     },
     "execution_count": 85,
     "metadata": {},
     "output_type": "execute_result"
    },
    {
     "data": {
      "image/png": "[encoded data removed]",
      "text/plain": [
       "<Figure size 432x288 with 2 Axes>"
      ]
     },
     "metadata": {
      "needs_background": "light"
     },
     "output_type": "display_data"
    }
   ],
   "source": [
    "pred1 = clf.predict(X_test)\n",
    "score = clf.score(X_test, y_test)\n",
    "cm = confusion_matrix(y_test,pred1)\n",
    "print(\"AdaBoost Accuracy Score on testing set :- \" + str(score))\n",
    "print(classification_report(y_test,pred1))\n",
    "sns.heatmap(cm, annot=True, fmt=\".3f\", linewidths=.5, square = True, cmap = 'Blues_r')"
   ]
  },
  {
   "cell_type": "code",
   "execution_count": 86,
   "metadata": {},
   "outputs": [],
   "source": [
    "test_loss =[]\n",
    "\n",
    "iteration=[]\n",
    "for i in range (1,11):\n",
    "    iteration.append(i*25)\n",
    "    clf = AdaBoostClassifier(n_estimators=(i*25), random_state=0)\n",
    "    clf.fit(X_train, y_train)\n",
    "    pred2 = clf.predict(X_test)\n",
    "    score = clf.score(X_test, y_test)\n",
    "    cm = confusion_matrix(y_test,pred2)\n",
    "    # print(\"AdaBoost Accuracy Score on testing set :- \" + str(score))\n",
    "    # print(classification_report(y_test,pred1))\n",
    "    # sns.heatmap(cm, annot=True, fmt=\".3f\", linewidths=.5, square = True, cmap = 'Blues_r')\n",
    "    test_loss.append(log_loss(y_test , pred2))\n",
    "\n",
    "\n"
   ]
  },
  {
   "cell_type": "code",
   "execution_count": 87,
   "metadata": {},
   "outputs": [
    {
     "data": {
      "image/png": "[encoded data removed]",
      "text/plain": [
       "<Figure size 432x288 with 1 Axes>"
      ]
     },
     "metadata": {
      "needs_background": "light"
     },
     "output_type": "display_data"
    }
   ],
   "source": [
    "plt.plot(iteration,test_loss,label = \"Testing Loss\")\n",
    "plt.xlabel(\"Number of n-estimators\")\n",
    "plt.ylabel(\"Testing Loss\")\n",
    "plt.legend()\n",
    "plt.show()"
   ]
  },
  {
   "cell_type": "code",
   "execution_count": 88,
   "metadata": {},
   "outputs": [
    {
     "name": "stdout",
     "output_type": "stream",
     "text": [
      "Accuracy Score For Test (max depth = 1) : 0.9831729111454833\n",
      "Precision Score For Test (max depth = 1) : 0.9831729111454833\n",
      "Recall Score For Test (max depth = 1) : 0.9831729111454833\n",
      "\n",
      "Accuracy Score For Test (max depth = 2) : 0.98320246692216\n",
      "Precision Score For Test (max depth = 2) : 0.98320246692216\n",
      "Recall Score For Test (max depth = 2) : 0.98320246692216\n",
      "\n",
      "Accuracy Score For Test (max depth = 3) : 0.741120952090086\n",
      "Precision Score For Test (max depth = 3) : 0.741120952090086\n",
      "Recall Score For Test (max depth = 3) : 0.741120952090086\n",
      "\n",
      "Accuracy Score For Test (max depth = 4) : 0.7873954464400067\n",
      "Precision Score For Test (max depth = 4) : 0.7873954464400067\n",
      "Recall Score For Test (max depth = 4) : 0.7873954464400067\n",
      "\n",
      "Accuracy Score For Test (max depth = 5) : 0.9310266691624878\n",
      "Precision Score For Test (max depth = 5) : 0.9310266691624878\n",
      "Recall Score For Test (max depth = 5) : 0.9310266691624878\n",
      "\n",
      "Accuracy Score For Test (max depth = 6) : 0.8846043959291844\n",
      "Precision Score For Test (max depth = 6) : 0.8846043959291844\n",
      "Recall Score For Test (max depth = 6) : 0.8846043959291844\n",
      "\n",
      "Accuracy Score For Test (max depth = 7) : 0.882062599135001\n",
      "Precision Score For Test (max depth = 7) : 0.882062599135001\n",
      "Recall Score For Test (max depth = 7) : 0.882062599135001\n",
      "\n",
      "Accuracy Score For Test (max depth = 8) : 0.8986532417761052\n",
      "Precision Score For Test (max depth = 8) : 0.8986532417761052\n",
      "Recall Score For Test (max depth = 8) : 0.8986532417761052\n",
      "\n",
      "Accuracy Score For Test (max depth = 9) : 0.926071150606386\n",
      "Precision Score For Test (max depth = 9) : 0.926071150606386\n",
      "Recall Score For Test (max depth = 9) : 0.926071150606386\n",
      "\n",
      "Accuracy Score For Test (max depth = 10) : 0.9019930445405554\n",
      "Precision Score For Test (max depth = 10) : 0.9019930445405554\n",
      "Recall Score For Test (max depth = 10) : 0.9019930445405554\n",
      "\n"
     ]
    },
    {
     "data": {
      "text/plain": [
       "<matplotlib.legend.Legend at 0x7feea8c311c0>"
      ]
     },
     "execution_count": 88,
     "metadata": {},
     "output_type": "execute_result"
    },
    {
     "data": {
      "image/png": "[encoded data removed]",
      "text/plain": [
       "<Figure size 432x288 with 1 Axes>"
      ]
     },
     "metadata": {
      "needs_background": "light"
     },
     "output_type": "display_data"
    }
   ],
   "source": [
    "arr = [1,2,3,4,5,6,7,8,9,10]\n",
    "test_plot = []\n",
    "validate_plot = []\n",
    "train_plot = []\n",
    "for i in arr:\n",
    "    clf = PCA(n_components = i)\n",
    "    X_train2 = clf.fit_transform(X_train)\n",
    "    X_valid2 = clf.fit_transform(X_valid)\n",
    "    X_test2 = clf.fit_transform(X_test)\n",
    "    clf = AdaBoostClassifier(n_estimators=(75), random_state=0)\n",
    "    clf.fit(X_train2, y_train)\n",
    "    pred_test = clf.predict(X_test2)\n",
    "    pred_val = clf.predict(X_valid2)\n",
    "    pred_train = clf.predict(X_train2)\n",
    "    score = clf.score(X_test2, y_test)\n",
    "    accuracy_score_test = accuracy_score(y_test,pred_test)\n",
    "    recall_score_test = recall_score(y_test,pred_test,average = \"micro\")\n",
    "    precision_score_test = precision_score(y_test,pred_test,average = \"micro\")\n",
    "    test_plot.append(accuracy_score_test)\n",
    "\n",
    "    recall_score_validate = recall_score(y_valid, pred_val, average = \"micro\")\n",
    "    precision_score_validate = precision_score(y_valid, pred_val, average = \"micro\")\n",
    "    accuracy_score_validate = accuracy_score(y_valid, pred_val)\n",
    "    validate_plot.append(accuracy_score_validate)\n",
    "\n",
    "    recall_score_train = recall_score(y_train, pred_train, average = \"micro\")\n",
    "    precision_score_train = precision_score(y_train, pred_train, average = \"micro\")\n",
    "    accuracy_score_train = accuracy_score(y_train, pred_train)\n",
    "    train_plot.append(accuracy_score_train)\n",
    "    print(\"Accuracy Score For Test (max depth = \" + str(i) + \") : \" + str(accuracy_score_test))\n",
    "    print(\"Precision Score For Test (max depth = \" + str(i) + \") : \" + str(precision_score_test))\n",
    "    print(\"Recall Score For Test (max depth = \" + str(i) + \") : \" + str(recall_score_test))\n",
    "    print()\n",
    "plt.xlabel(\"n_components\")\n",
    "plt.ylabel(\"AccuracyScore\")\n",
    "plt.plot(arr,test_plot,'b',label = \"Testing Data\")\n",
    "plt.plot(arr,validate_plot,'r',label = \"Validate Data\")\n",
    "plt.plot(arr,train_plot,'g',label = \"Train Data\")\n",
    "plt.legend()\n"
   ]
  }
 ],
 "metadata": {
  "kernelspec": {
   "display_name": "Python 3.9.12 ('base')",
   "language": "python",
   "name": "python3"
  },
  "language_info": {
   "codemirror_mode": {
    "name": "ipython",
    "version": 3
   },
   "file_extension": ".py",
   "mimetype": "text/x-python",
   "name": "python",
   "nbconvert_exporter": "python",
   "pygments_lexer": "ipython3",
   "version": "3.9.12"
  },
  "orig_nbformat": 4,
  "vscode": {
   "interpreter": {
    "hash": "77df3a5ebd1cef01dee7bc6ed82b7377cfd852bb783257559a7f51931db89a34"
   }
  }
 },
 "nbformat": 4,
 "nbformat_minor": 2
}
